{
 "cells": [
  {
   "cell_type": "markdown",
   "id": "055c5869",
   "metadata": {},
   "source": [
    "### Bibliotecas"
   ]
  },
  {
   "cell_type": "code",
   "execution_count": 18,
   "id": "7bbd4d10",
   "metadata": {},
   "outputs": [],
   "source": [
    "import pandas as pd\n",
    "import matplotlib.pyplot as plt\n",
    "import seaborn as sns\n",
    "import datetime\n",
    "\n",
    "from pymongo import MongoClient\n",
    "from sshtunnel import SSHTunnelForwarder\n",
    "\n",
    "import warnings\n",
    "warnings.filterwarnings(\"ignore\")"
   ]
  },
  {
   "cell_type": "markdown",
   "id": "344f5aa2",
   "metadata": {},
   "source": [
    "<p>Principais biliotecas e versoes utilizadas</p>"
   ]
  },
  {
   "cell_type": "code",
   "execution_count": 2,
   "id": "79ae0bd5",
   "metadata": {},
   "outputs": [
    {
     "name": "stdout",
     "output_type": "stream",
     "text": [
      "Author: Joao Paulo Ribeiro dos Santos\n",
      "\n",
      "pandas    : 1.2.4\n",
      "matplotlib: 3.3.4\n",
      "seaborn   : 0.11.1\n",
      "\n"
     ]
    }
   ],
   "source": [
    "%reload_ext watermark\n",
    "%watermark -a \"Joao Paulo Ribeiro dos Santos\" --iversions"
   ]
  },
  {
   "cell_type": "markdown",
   "id": "4b57aaef",
   "metadata": {},
   "source": [
    "### Importado Dados"
   ]
  },
  {
   "cell_type": "code",
   "execution_count": 3,
   "id": "559b24cb",
   "metadata": {},
   "outputs": [],
   "source": [
    "MONGO_USER = \"teste_dados_leitura\"\n",
    "MONGO_PASS = \"o7c4Cc8NDeXYbAMH\"\n",
    "MONGO_DB = 'teste_dados'\n",
    "\n",
    "client = MongoClient(\"mongodb+srv://\" + MONGO_USER \n",
    "                     + \":\" + MONGO_PASS\n",
    "                     + \"@teste-dados.mcqmr.mongodb.net/myFirstDatabase?retryWrites=true&w=majority\")\n",
    "\n",
    "database = client[MONGO_DB]\n",
    "\n",
    "multas = database['multas_2020']"
   ]
  },
  {
   "cell_type": "code",
   "execution_count": 4,
   "id": "b4a8d4a0",
   "metadata": {},
   "outputs": [
    {
     "data": {
      "text/plain": [
       "334"
      ]
     },
     "execution_count": 4,
     "metadata": {},
     "output_type": "execute_result"
    }
   ],
   "source": [
    "# Quantidade de collections\n",
    "multas.count()"
   ]
  },
  {
   "cell_type": "code",
   "execution_count": 5,
   "id": "ae5bd650",
   "metadata": {},
   "outputs": [
    {
     "data": {
      "text/plain": [
       "{'_id': ObjectId('60ab8f18ef5d383ce8403de0'),\n",
       " 'escopo_autuacao': 'CMT - Capacidade Máxima de Tração',\n",
       " 'mes': 'JANEIRO',\n",
       " 'uf': 'Es',\n",
       " 'amparo_legal': 'Lei 9503/97 Lei 10561/02 Res. CONTRAN nº 210/06, 211/06 e 258/07 e alterações Portaria DENATRAN 63/09 e 59/07 e alterações ',\n",
       " 'descricao_infracao': 'Transitar com o veículo excedendo a CMT acima de 1000 kg',\n",
       " 'quantidade_autos': '1'}"
      ]
     },
     "execution_count": 5,
     "metadata": {},
     "output_type": "execute_result"
    }
   ],
   "source": [
    "# Analisando um documento\n",
    "multas.find_one({})"
   ]
  },
  {
   "cell_type": "code",
   "execution_count": 7,
   "id": "42376064",
   "metadata": {},
   "outputs": [],
   "source": [
    "# Armazenando dados no datframe\n",
    "df_multas = pd.DataFrame(list(multas.find()))"
   ]
  },
  {
   "cell_type": "code",
   "execution_count": 9,
   "id": "6074d2ff",
   "metadata": {},
   "outputs": [],
   "source": [
    "# Encerrando conexao\n",
    "client.close()"
   ]
  },
  {
   "cell_type": "code",
   "execution_count": 8,
   "id": "828e13a5",
   "metadata": {},
   "outputs": [
    {
     "data": {
      "text/html": [
       "<div>\n",
       "<style scoped>\n",
       "    .dataframe tbody tr th:only-of-type {\n",
       "        vertical-align: middle;\n",
       "    }\n",
       "\n",
       "    .dataframe tbody tr th {\n",
       "        vertical-align: top;\n",
       "    }\n",
       "\n",
       "    .dataframe thead th {\n",
       "        text-align: right;\n",
       "    }\n",
       "</style>\n",
       "<table border=\"1\" class=\"dataframe\">\n",
       "  <thead>\n",
       "    <tr style=\"text-align: right;\">\n",
       "      <th></th>\n",
       "      <th>_id</th>\n",
       "      <th>escopo_autuacao</th>\n",
       "      <th>mes</th>\n",
       "      <th>uf</th>\n",
       "      <th>amparo_legal</th>\n",
       "      <th>descricao_infracao</th>\n",
       "      <th>quantidade_autos</th>\n",
       "    </tr>\n",
       "  </thead>\n",
       "  <tbody>\n",
       "    <tr>\n",
       "      <th>0</th>\n",
       "      <td>60ab8f18ef5d383ce8403de0</td>\n",
       "      <td>CMT - Capacidade Máxima de Tração</td>\n",
       "      <td>JANEIRO</td>\n",
       "      <td>Es</td>\n",
       "      <td>Lei 9503/97 Lei 10561/02 Res. CONTRAN nº 210/0...</td>\n",
       "      <td>Transitar com o veículo excedendo a CMT acima ...</td>\n",
       "      <td>1</td>\n",
       "    </tr>\n",
       "    <tr>\n",
       "      <th>1</th>\n",
       "      <td>60ab8f18ef5d383ce8403de1</td>\n",
       "      <td>CMT - Capacidade Máxima de Tração</td>\n",
       "      <td>JANEIRO</td>\n",
       "      <td>Mg</td>\n",
       "      <td>Lei 9503/97 Lei 10561/02 Res. CONTRAN nº 210/0...</td>\n",
       "      <td>Transitar com o veículo excedendo a CMT em até...</td>\n",
       "      <td>2</td>\n",
       "    </tr>\n",
       "    <tr>\n",
       "      <th>2</th>\n",
       "      <td>60ab8f18ef5d383ce8403de2</td>\n",
       "      <td>CMT - Capacidade Máxima de Tração</td>\n",
       "      <td>JANEIRO</td>\n",
       "      <td>MG</td>\n",
       "      <td>Lei 9503/97 Lei 10561/02 Res. CONTRAN nº 210/0...</td>\n",
       "      <td>Transitar com o veículo excedendo a CMT acima ...</td>\n",
       "      <td>3</td>\n",
       "    </tr>\n",
       "    <tr>\n",
       "      <th>3</th>\n",
       "      <td>60ab8f18ef5d383ce8403de3</td>\n",
       "      <td>CMT - Capacidade Máxima de Tração</td>\n",
       "      <td>JANeIRO</td>\n",
       "      <td>MS</td>\n",
       "      <td>Lei 9503/97 Lei 10561/02 Res. CONTRAN nº 210/0...</td>\n",
       "      <td>Transitar com o veículo excedendo a CMT acima ...</td>\n",
       "      <td>2</td>\n",
       "    </tr>\n",
       "    <tr>\n",
       "      <th>4</th>\n",
       "      <td>60ab8f18ef5d383ce8403de4</td>\n",
       "      <td>CMT - Capacidade Máxima de Tração</td>\n",
       "      <td>JANEIRO</td>\n",
       "      <td>RJ</td>\n",
       "      <td>Lei 9503/97 Lei 10561/02 Res. CONTRAN nº 210/0...</td>\n",
       "      <td>Transitar com o veículo excedendo a CMT entre ...</td>\n",
       "      <td>8</td>\n",
       "    </tr>\n",
       "  </tbody>\n",
       "</table>\n",
       "</div>"
      ],
      "text/plain": [
       "                        _id                    escopo_autuacao      mes  uf  \\\n",
       "0  60ab8f18ef5d383ce8403de0  CMT - Capacidade Máxima de Tração  JANEIRO  Es   \n",
       "1  60ab8f18ef5d383ce8403de1  CMT - Capacidade Máxima de Tração  JANEIRO  Mg   \n",
       "2  60ab8f18ef5d383ce8403de2  CMT - Capacidade Máxima de Tração  JANEIRO  MG   \n",
       "3  60ab8f18ef5d383ce8403de3  CMT - Capacidade Máxima de Tração  JANeIRO  MS   \n",
       "4  60ab8f18ef5d383ce8403de4  CMT - Capacidade Máxima de Tração  JANEIRO  RJ   \n",
       "\n",
       "                                        amparo_legal  \\\n",
       "0  Lei 9503/97 Lei 10561/02 Res. CONTRAN nº 210/0...   \n",
       "1  Lei 9503/97 Lei 10561/02 Res. CONTRAN nº 210/0...   \n",
       "2  Lei 9503/97 Lei 10561/02 Res. CONTRAN nº 210/0...   \n",
       "3  Lei 9503/97 Lei 10561/02 Res. CONTRAN nº 210/0...   \n",
       "4  Lei 9503/97 Lei 10561/02 Res. CONTRAN nº 210/0...   \n",
       "\n",
       "                                  descricao_infracao quantidade_autos  \n",
       "0  Transitar com o veículo excedendo a CMT acima ...                1  \n",
       "1  Transitar com o veículo excedendo a CMT em até...                2  \n",
       "2  Transitar com o veículo excedendo a CMT acima ...                3  \n",
       "3  Transitar com o veículo excedendo a CMT acima ...                2  \n",
       "4  Transitar com o veículo excedendo a CMT entre ...                8  "
      ]
     },
     "execution_count": 8,
     "metadata": {},
     "output_type": "execute_result"
    }
   ],
   "source": [
    "# Dados\n",
    "df_multas.head(5)"
   ]
  },
  {
   "cell_type": "markdown",
   "id": "63ed35ca",
   "metadata": {},
   "source": [
    "### Analisando os dados"
   ]
  },
  {
   "cell_type": "code",
   "execution_count": 10,
   "id": "8b1bc80a",
   "metadata": {},
   "outputs": [
    {
     "name": "stdout",
     "output_type": "stream",
     "text": [
      "<class 'pandas.core.frame.DataFrame'>\n",
      "RangeIndex: 334 entries, 0 to 333\n",
      "Data columns (total 7 columns):\n",
      " #   Column              Non-Null Count  Dtype \n",
      "---  ------              --------------  ----- \n",
      " 0   _id                 334 non-null    object\n",
      " 1   escopo_autuacao     334 non-null    object\n",
      " 2   mes                 334 non-null    object\n",
      " 3   uf                  334 non-null    object\n",
      " 4   amparo_legal        334 non-null    object\n",
      " 5   descricao_infracao  334 non-null    object\n",
      " 6   quantidade_autos    334 non-null    object\n",
      "dtypes: object(7)\n",
      "memory usage: 18.4+ KB\n"
     ]
    }
   ],
   "source": [
    "# Informacao dos dados\n",
    "df_multas.info()"
   ]
  },
  {
   "cell_type": "code",
   "execution_count": 11,
   "id": "4cb95f89",
   "metadata": {},
   "outputs": [
    {
     "data": {
      "text/plain": [
       "_id                   0\n",
       "escopo_autuacao       0\n",
       "mes                   0\n",
       "uf                    0\n",
       "amparo_legal          0\n",
       "descricao_infracao    0\n",
       "quantidade_autos      0\n",
       "dtype: int64"
      ]
     },
     "execution_count": 11,
     "metadata": {},
     "output_type": "execute_result"
    }
   ],
   "source": [
    "# Total de valores nulos\n",
    "df_multas.isnull().sum()"
   ]
  },
  {
   "cell_type": "code",
   "execution_count": 124,
   "id": "9bd67112",
   "metadata": {},
   "outputs": [],
   "source": [
    "# Tranformar todas as string para maiuscula\n",
    "df_multas_treated = df_multas.apply(lambda x: x.astype(str).str.upper())\n",
    "\n",
    "# Remover coluna ID\n",
    "df_multas_treated = df_multas_treated.drop(columns = {'_id'})"
   ]
  },
  {
   "cell_type": "code",
   "execution_count": 125,
   "id": "a40ffe94",
   "metadata": {},
   "outputs": [
    {
     "data": {
      "text/plain": [
       "array(['JANEIRO', 'FEVEREIRO', 'MARÇO', 'ABRIL', 'MAIO', 'JUNHO', 'JULHO',\n",
       "       'AGOSTO', 'SETEMBRO', 'OUTUBRO', 'NOVEMBRO', 'DEZEMBRO'],\n",
       "      dtype=object)"
      ]
     },
     "execution_count": 125,
     "metadata": {},
     "output_type": "execute_result"
    }
   ],
   "source": [
    "# Meses na base de dados\n",
    "df_multas_treated['mes'].unique()"
   ]
  },
  {
   "cell_type": "code",
   "execution_count": 133,
   "id": "0e171648",
   "metadata": {},
   "outputs": [],
   "source": [
    "# Dicionario dos meses\n",
    "dct_data = {\n",
    "            'JANEIRO': datetime.datetime(2020, 1, 1), \n",
    "            'FEVEREIRO': datetime.datetime(2020, 2, 1), \n",
    "            'MARÇO': datetime.datetime(2020, 3, 1), \n",
    "            'ABRIL': datetime.datetime(2020, 4, 1), \n",
    "            'MAIO': datetime.datetime(2020, 5, 1), \n",
    "            'JUNHO': datetime.datetime(2020, 6, 1), \n",
    "            'JULHO': datetime.datetime(2020, 7, 1), \n",
    "            'AGOSTO': datetime.datetime(2020, 8, 1), \n",
    "            'SETEMBRO': datetime.datetime(2020, 9, 1), \n",
    "            'OUTUBRO': datetime.datetime(2020, 10, 1),\n",
    "            'NOVEMBRO': datetime.datetime(2020, 11, 1), \n",
    "            'DEZEMBRO': datetime.datetime(2020, 12, 1)}\n",
    "\n",
    "# Criar a coluna referente a data\n",
    "df_multas_treated['data_referencia'] = df_multas_treated['mes'].map(dct_data)"
   ]
  },
  {
   "cell_type": "code",
   "execution_count": 134,
   "id": "d907b1e9",
   "metadata": {},
   "outputs": [
    {
     "data": {
      "text/html": [
       "<div>\n",
       "<style scoped>\n",
       "    .dataframe tbody tr th:only-of-type {\n",
       "        vertical-align: middle;\n",
       "    }\n",
       "\n",
       "    .dataframe tbody tr th {\n",
       "        vertical-align: top;\n",
       "    }\n",
       "\n",
       "    .dataframe thead th {\n",
       "        text-align: right;\n",
       "    }\n",
       "</style>\n",
       "<table border=\"1\" class=\"dataframe\">\n",
       "  <thead>\n",
       "    <tr style=\"text-align: right;\">\n",
       "      <th></th>\n",
       "      <th>escopo_autuacao</th>\n",
       "      <th>mes</th>\n",
       "      <th>uf</th>\n",
       "      <th>amparo_legal</th>\n",
       "      <th>descricao_infracao</th>\n",
       "      <th>quantidade_autos</th>\n",
       "      <th>data_referencia</th>\n",
       "    </tr>\n",
       "  </thead>\n",
       "  <tbody>\n",
       "    <tr>\n",
       "      <th>329</th>\n",
       "      <td>EXCESSO DE PESO</td>\n",
       "      <td>DEZEMBRO</td>\n",
       "      <td>SC</td>\n",
       "      <td>LEI 9503/97 LEI 10561/02 RES. CONTRAN Nº 210/0...</td>\n",
       "      <td>TRANSITAR COM O VEÍCULO COM EXCESSO DE PESO - ...</td>\n",
       "      <td>105</td>\n",
       "      <td>2020-12-01</td>\n",
       "    </tr>\n",
       "    <tr>\n",
       "      <th>330</th>\n",
       "      <td>EXCESSO DE PESO</td>\n",
       "      <td>DEZEMBRO</td>\n",
       "      <td>SC</td>\n",
       "      <td>LEI 9503/97 LEI 10561/02 RES. CONTRAN Nº 210/0...</td>\n",
       "      <td>TRANSITAR COM O VEÍCULO COM EXCESSO DE PESO - ...</td>\n",
       "      <td>516</td>\n",
       "      <td>2020-12-01</td>\n",
       "    </tr>\n",
       "    <tr>\n",
       "      <th>331</th>\n",
       "      <td>EXCESSO DE PESO</td>\n",
       "      <td>DEZEMBRO</td>\n",
       "      <td>SP</td>\n",
       "      <td>LEI 9503/97 LEI 10561/02 RES. CONTRAN Nº 210/0...</td>\n",
       "      <td>TRANSITAR COM O VEÍCULO COM EXCESSO DE PESO - ...</td>\n",
       "      <td>37</td>\n",
       "      <td>2020-12-01</td>\n",
       "    </tr>\n",
       "    <tr>\n",
       "      <th>332</th>\n",
       "      <td>EXCESSO DE PESO</td>\n",
       "      <td>DEZEMBRO</td>\n",
       "      <td>SP</td>\n",
       "      <td>LEI 9503/97 LEI 10561/02 RES. CONTRAN Nº 210/0...</td>\n",
       "      <td>TRANSITAR COM O VEÍCULO COM EXCESSO DE PESO - ...</td>\n",
       "      <td>42</td>\n",
       "      <td>2020-12-01</td>\n",
       "    </tr>\n",
       "    <tr>\n",
       "      <th>333</th>\n",
       "      <td>EXCESSO DE PESO</td>\n",
       "      <td>DEZEMBRO</td>\n",
       "      <td>SP</td>\n",
       "      <td>LEI 9503/97 LEI 10561/02 RES. CONTRAN Nº 210/0...</td>\n",
       "      <td>TRANSITAR COM O VEÍCULO COM EXCESSO DE PESO - ...</td>\n",
       "      <td>408</td>\n",
       "      <td>2020-12-01</td>\n",
       "    </tr>\n",
       "  </tbody>\n",
       "</table>\n",
       "</div>"
      ],
      "text/plain": [
       "     escopo_autuacao       mes  uf  \\\n",
       "329  EXCESSO DE PESO  DEZEMBRO  SC   \n",
       "330  EXCESSO DE PESO  DEZEMBRO  SC   \n",
       "331  EXCESSO DE PESO  DEZEMBRO  SP   \n",
       "332  EXCESSO DE PESO  DEZEMBRO  SP   \n",
       "333  EXCESSO DE PESO  DEZEMBRO  SP   \n",
       "\n",
       "                                          amparo_legal  \\\n",
       "329  LEI 9503/97 LEI 10561/02 RES. CONTRAN Nº 210/0...   \n",
       "330  LEI 9503/97 LEI 10561/02 RES. CONTRAN Nº 210/0...   \n",
       "331  LEI 9503/97 LEI 10561/02 RES. CONTRAN Nº 210/0...   \n",
       "332  LEI 9503/97 LEI 10561/02 RES. CONTRAN Nº 210/0...   \n",
       "333  LEI 9503/97 LEI 10561/02 RES. CONTRAN Nº 210/0...   \n",
       "\n",
       "                                    descricao_infracao  quantidade_autos  \\\n",
       "329  TRANSITAR COM O VEÍCULO COM EXCESSO DE PESO - ...               105   \n",
       "330  TRANSITAR COM O VEÍCULO COM EXCESSO DE PESO - ...               516   \n",
       "331  TRANSITAR COM O VEÍCULO COM EXCESSO DE PESO - ...                37   \n",
       "332  TRANSITAR COM O VEÍCULO COM EXCESSO DE PESO - ...                42   \n",
       "333  TRANSITAR COM O VEÍCULO COM EXCESSO DE PESO - ...               408   \n",
       "\n",
       "    data_referencia  \n",
       "329      2020-12-01  \n",
       "330      2020-12-01  \n",
       "331      2020-12-01  \n",
       "332      2020-12-01  \n",
       "333      2020-12-01  "
      ]
     },
     "execution_count": 134,
     "metadata": {},
     "output_type": "execute_result"
    }
   ],
   "source": [
    "# Verificar Dados\n",
    "df_multas_treated.tail(5)"
   ]
  },
  {
   "cell_type": "markdown",
   "id": "80d7d817",
   "metadata": {},
   "source": [
    "### EDA"
   ]
  },
  {
   "cell_type": "code",
   "execution_count": 138,
   "id": "66565d52",
   "metadata": {},
   "outputs": [],
   "source": [
    "# Converter coluna para numerico\n",
    "df_multas_treated['quantidade_autos'] = df_multas_treated['quantidade_autos'].astype(int)"
   ]
  },
  {
   "cell_type": "code",
   "execution_count": 139,
   "id": "3f449727",
   "metadata": {},
   "outputs": [
    {
     "name": "stdout",
     "output_type": "stream",
     "text": [
      "<class 'pandas.core.frame.DataFrame'>\n",
      "RangeIndex: 334 entries, 0 to 333\n",
      "Data columns (total 7 columns):\n",
      " #   Column              Non-Null Count  Dtype         \n",
      "---  ------              --------------  -----         \n",
      " 0   escopo_autuacao     334 non-null    object        \n",
      " 1   mes                 334 non-null    object        \n",
      " 2   uf                  334 non-null    object        \n",
      " 3   amparo_legal        334 non-null    object        \n",
      " 4   descricao_infracao  334 non-null    object        \n",
      " 5   quantidade_autos    334 non-null    int64         \n",
      " 6   data_referencia     334 non-null    datetime64[ns]\n",
      "dtypes: datetime64[ns](1), int64(1), object(5)\n",
      "memory usage: 18.4+ KB\n"
     ]
    }
   ],
   "source": [
    "# Analisando o dataframe\n",
    "df_multas_treated.info()"
   ]
  },
  {
   "cell_type": "markdown",
   "id": "64f0c93a",
   "metadata": {},
   "source": [
    "#### Column 'escopo_autuacao'"
   ]
  },
  {
   "cell_type": "code",
   "execution_count": 140,
   "id": "bc850256",
   "metadata": {},
   "outputs": [
    {
     "data": {
      "text/plain": [
       "array(['CMT - CAPACIDADE MÁXIMA DE TRAÇÃO', 'EVASÃO DE BALANÇA',\n",
       "       'EXCESSO DE PESO'], dtype=object)"
      ]
     },
     "execution_count": 140,
     "metadata": {},
     "output_type": "execute_result"
    }
   ],
   "source": [
    "# Verificando os valores unicos\n",
    "df_multas_treated.escopo_autuacao.unique()"
   ]
  },
  {
   "cell_type": "code",
   "execution_count": 141,
   "id": "73f08173",
   "metadata": {},
   "outputs": [
    {
     "data": {
      "image/png": "[encoded data removed]",
      "text/plain": [
       "<Figure size 576x576 with 1 Axes>"
      ]
     },
     "metadata": {
      "needs_background": "light"
     },
     "output_type": "display_data"
    }
   ],
   "source": [
    "#Criando Dataframe com os dados agrupados\n",
    "df = df_multas_treated.groupby('escopo_autuacao')['quantidade_autos'].sum().reset_index()\n",
    "\n",
    "plt.figure(figsize = (8, 8))\n",
    "\n",
    "ax = sns.barplot(x = 'escopo_autuacao', y = 'quantidade_autos', data = df)\n",
    "\n",
    "# Anotando valores nos graficos\n",
    "for p in ax.patches:\n",
    "    ax.annotate('{:.0f}'.format(p.get_height()), \n",
    "                (p.get_x() + 0.4, p.get_height()),\n",
    "                ha = 'center', \n",
    "                va = 'bottom',\n",
    "                color = 'black',\n",
    "                size = 14)\n",
    "\n",
    "\n",
    "# Titulo\n",
    "plt.title('Quantidade de multa por autuacao', \n",
    "          fontsize = 18)\n",
    "\n",
    "plt.xticks(rotation = 30)\n",
    "\n",
    "\n",
    "# Exibir\n",
    "plt.show()"
   ]
  },
  {
   "cell_type": "markdown",
   "id": "cc6d733e",
   "metadata": {},
   "source": [
    "#### Colums 'mes'"
   ]
  },
  {
   "cell_type": "code",
   "execution_count": 142,
   "id": "67939e9e",
   "metadata": {},
   "outputs": [
    {
     "data": {
      "text/plain": [
       "array(['JANEIRO', 'FEVEREIRO', 'MARÇO', 'ABRIL', 'MAIO', 'JUNHO', 'JULHO',\n",
       "       'AGOSTO', 'SETEMBRO', 'OUTUBRO', 'NOVEMBRO', 'DEZEMBRO'],\n",
       "      dtype=object)"
      ]
     },
     "execution_count": 142,
     "metadata": {},
     "output_type": "execute_result"
    }
   ],
   "source": [
    "# Verificando os valores unicos\n",
    "df_multas_treated.mes.unique()"
   ]
  },
  {
   "cell_type": "code",
   "execution_count": 143,
   "id": "eb258f79",
   "metadata": {},
   "outputs": [
    {
     "data": {
      "image/png": "[encoded data removed]",
      "text/plain": [
       "<Figure size 576x576 with 1 Axes>"
      ]
     },
     "metadata": {
      "needs_background": "light"
     },
     "output_type": "display_data"
    }
   ],
   "source": [
    "#Criando Dataframe com os dados agrupados\n",
    "df = df_multas_treated.groupby('data_referencia')['quantidade_autos'].sum().reset_index()\n",
    "\n",
    "plt.figure(figsize = (8, 8))\n",
    "\n",
    "ax = sns.barplot(x = 'data_referencia', y = 'quantidade_autos', data = df)\n",
    "\n",
    "# Anotando valores nos graficos\n",
    "for p in ax.patches:\n",
    "    ax.annotate('{:.0f}'.format(p.get_height()), \n",
    "                (p.get_x() + 0.4, p.get_height()),\n",
    "                ha = 'center', \n",
    "                va = 'bottom',\n",
    "                color = 'black',\n",
    "                size = 11)\n",
    "\n",
    "\n",
    "# Titulo\n",
    "plt.title('Quantidade de multa por mes', \n",
    "          fontsize = 18)\n",
    "\n",
    "plt.xticks(rotation = 30)\n",
    "\n",
    "\n",
    "# Exibir\n",
    "plt.show()"
   ]
  },
  {
   "cell_type": "markdown",
   "id": "de640dd1",
   "metadata": {},
   "source": [
    "#### Column 'uf'"
   ]
  },
  {
   "cell_type": "code",
   "execution_count": 144,
   "id": "3fd56e8a",
   "metadata": {},
   "outputs": [
    {
     "name": "stdout",
     "output_type": "stream",
     "text": [
      "<class 'pandas.core.frame.DataFrame'>\n",
      "RangeIndex: 334 entries, 0 to 333\n",
      "Data columns (total 7 columns):\n",
      " #   Column              Non-Null Count  Dtype         \n",
      "---  ------              --------------  -----         \n",
      " 0   escopo_autuacao     334 non-null    object        \n",
      " 1   mes                 334 non-null    object        \n",
      " 2   uf                  334 non-null    object        \n",
      " 3   amparo_legal        334 non-null    object        \n",
      " 4   descricao_infracao  334 non-null    object        \n",
      " 5   quantidade_autos    334 non-null    int64         \n",
      " 6   data_referencia     334 non-null    datetime64[ns]\n",
      "dtypes: datetime64[ns](1), int64(1), object(5)\n",
      "memory usage: 18.4+ KB\n"
     ]
    }
   ],
   "source": [
    "# Analisando o dataframe\n",
    "df_multas_treated.info()"
   ]
  },
  {
   "cell_type": "code",
   "execution_count": 145,
   "id": "7483ffaa",
   "metadata": {},
   "outputs": [
    {
     "data": {
      "text/plain": [
       "array(['ES', 'MG', 'MS', 'RJ', 'SC', 'BA', 'MT', 'PR', 'RS', 'SP', 'GO'],\n",
       "      dtype=object)"
      ]
     },
     "execution_count": 145,
     "metadata": {},
     "output_type": "execute_result"
    }
   ],
   "source": [
    "# Verificando os valores unicos\n",
    "df_multas_treated.uf.unique()"
   ]
  },
  {
   "cell_type": "code",
   "execution_count": 146,
   "id": "efa5da40",
   "metadata": {},
   "outputs": [
    {
     "data": {
      "image/png": "[encoded data removed]",
      "text/plain": [
       "<Figure size 576x576 with 1 Axes>"
      ]
     },
     "metadata": {
      "needs_background": "light"
     },
     "output_type": "display_data"
    }
   ],
   "source": [
    "#Criando Dataframe com os dados agrupados\n",
    "df = df_multas_treated.groupby('uf')['quantidade_autos'].sum().reset_index()\n",
    "\n",
    "plt.figure(figsize = (8, 8))\n",
    "\n",
    "ax = sns.barplot(x = 'uf', y = 'quantidade_autos', data = df)\n",
    "\n",
    "# Anotando valores nos graficos\n",
    "for p in ax.patches:\n",
    "    ax.annotate('{:.0f}'.format(p.get_height()), \n",
    "                (p.get_x() + 0.4, p.get_height()),\n",
    "                ha = 'center', \n",
    "                va = 'bottom',\n",
    "                color = 'black',\n",
    "                size = 11)\n",
    "\n",
    "\n",
    "# Titulo\n",
    "plt.title('Quantidade de multa por Estado', \n",
    "          fontsize = 18)\n",
    "\n",
    "plt.xticks(rotation = 30)\n",
    "\n",
    "\n",
    "# Exibir\n",
    "plt.show()"
   ]
  },
  {
   "cell_type": "markdown",
   "id": "722180b5",
   "metadata": {},
   "source": [
    "#### Column 'amparo_legal'"
   ]
  },
  {
   "cell_type": "code",
   "execution_count": 147,
   "id": "387bfa77",
   "metadata": {},
   "outputs": [
    {
     "data": {
      "text/plain": [
       "array(['LEI 9503/97 LEI 10561/02 RES. CONTRAN Nº 210/06, 211/06 E 258/07 E ALTERAÇÕES PORTARIA DENATRAN 63/09 E 59/07 E ALTERAÇÕES ',\n",
       "       'LEI 9503 DE 23/09/1997 TRANSPOR, SEM AUTORIZAÇÃO, BLOQUEIO VIÁRIO COM OU SEM SINALIZAÇÃO OU DISPOSITIVOS AUXILIARES, DEIXAR DE ADENTRAR ÀS ÁREAS DESTINADAS À PESAGEM DE VEÍCULOS OU EVADIR-SE PARA NÃO EFETUAR O PAGAMENTO DO PEDÁGIO.',\n",
       "       '[]'], dtype=object)"
      ]
     },
     "execution_count": 147,
     "metadata": {},
     "output_type": "execute_result"
    }
   ],
   "source": [
    "# Verificando os valores unicos\n",
    "df_multas_treated.amparo_legal.unique()"
   ]
  },
  {
   "cell_type": "code",
   "execution_count": 148,
   "id": "83fdff56",
   "metadata": {},
   "outputs": [
    {
     "data": {
      "text/html": [
       "<div>\n",
       "<style scoped>\n",
       "    .dataframe tbody tr th:only-of-type {\n",
       "        vertical-align: middle;\n",
       "    }\n",
       "\n",
       "    .dataframe tbody tr th {\n",
       "        vertical-align: top;\n",
       "    }\n",
       "\n",
       "    .dataframe thead th {\n",
       "        text-align: right;\n",
       "    }\n",
       "</style>\n",
       "<table border=\"1\" class=\"dataframe\">\n",
       "  <thead>\n",
       "    <tr style=\"text-align: right;\">\n",
       "      <th></th>\n",
       "      <th>amparo_legal</th>\n",
       "      <th>quantidade_autos</th>\n",
       "    </tr>\n",
       "  </thead>\n",
       "  <tbody>\n",
       "    <tr>\n",
       "      <th>0</th>\n",
       "      <td>LEI 9503 DE 23/09/1997 TRANSPOR, SEM AUTORIZAÇ...</td>\n",
       "      <td>40753</td>\n",
       "    </tr>\n",
       "    <tr>\n",
       "      <th>1</th>\n",
       "      <td>LEI 9503/97 LEI 10561/02 RES. CONTRAN Nº 210/0...</td>\n",
       "      <td>98865</td>\n",
       "    </tr>\n",
       "    <tr>\n",
       "      <th>2</th>\n",
       "      <td>[]</td>\n",
       "      <td>2</td>\n",
       "    </tr>\n",
       "  </tbody>\n",
       "</table>\n",
       "</div>"
      ],
      "text/plain": [
       "                                        amparo_legal  quantidade_autos\n",
       "0  LEI 9503 DE 23/09/1997 TRANSPOR, SEM AUTORIZAÇ...             40753\n",
       "1  LEI 9503/97 LEI 10561/02 RES. CONTRAN Nº 210/0...             98865\n",
       "2                                                 []                 2"
      ]
     },
     "execution_count": 148,
     "metadata": {},
     "output_type": "execute_result"
    }
   ],
   "source": [
    "# Verificar a quantidade de dados por amparo legal\n",
    "df_multas_treated.groupby('amparo_legal')['quantidade_autos'].sum().reset_index()"
   ]
  },
  {
   "cell_type": "code",
   "execution_count": 149,
   "id": "cb5c39d4",
   "metadata": {},
   "outputs": [
    {
     "data": {
      "text/html": [
       "<div>\n",
       "<style scoped>\n",
       "    .dataframe tbody tr th:only-of-type {\n",
       "        vertical-align: middle;\n",
       "    }\n",
       "\n",
       "    .dataframe tbody tr th {\n",
       "        vertical-align: top;\n",
       "    }\n",
       "\n",
       "    .dataframe thead th {\n",
       "        text-align: right;\n",
       "    }\n",
       "</style>\n",
       "<table border=\"1\" class=\"dataframe\">\n",
       "  <thead>\n",
       "    <tr style=\"text-align: right;\">\n",
       "      <th></th>\n",
       "      <th>escopo_autuacao</th>\n",
       "      <th>mes</th>\n",
       "      <th>uf</th>\n",
       "      <th>amparo_legal</th>\n",
       "      <th>descricao_infracao</th>\n",
       "      <th>quantidade_autos</th>\n",
       "      <th>data_referencia</th>\n",
       "    </tr>\n",
       "  </thead>\n",
       "  <tbody>\n",
       "    <tr>\n",
       "      <th>26</th>\n",
       "      <td>EXCESSO DE PESO</td>\n",
       "      <td>JANEIRO</td>\n",
       "      <td>RJ</td>\n",
       "      <td>[]</td>\n",
       "      <td>REALIZAR TRANSPORTE PERMISSIONADO DE PASSAGEIR...</td>\n",
       "      <td>1</td>\n",
       "      <td>2020-01-01</td>\n",
       "    </tr>\n",
       "    <tr>\n",
       "      <th>187</th>\n",
       "      <td>EXCESSO DE PESO</td>\n",
       "      <td>AGOSTO</td>\n",
       "      <td>RJ</td>\n",
       "      <td>[]</td>\n",
       "      <td>REALIZAR TRANSPORTE PERMISSIONADO DE PASSAGEIR...</td>\n",
       "      <td>1</td>\n",
       "      <td>2020-08-01</td>\n",
       "    </tr>\n",
       "  </tbody>\n",
       "</table>\n",
       "</div>"
      ],
      "text/plain": [
       "     escopo_autuacao      mes  uf amparo_legal  \\\n",
       "26   EXCESSO DE PESO  JANEIRO  RJ           []   \n",
       "187  EXCESSO DE PESO   AGOSTO  RJ           []   \n",
       "\n",
       "                                    descricao_infracao  quantidade_autos  \\\n",
       "26   REALIZAR TRANSPORTE PERMISSIONADO DE PASSAGEIR...                 1   \n",
       "187  REALIZAR TRANSPORTE PERMISSIONADO DE PASSAGEIR...                 1   \n",
       "\n",
       "    data_referencia  \n",
       "26       2020-01-01  \n",
       "187      2020-08-01  "
      ]
     },
     "execution_count": 149,
     "metadata": {},
     "output_type": "execute_result"
    }
   ],
   "source": [
    "df_multas_treated[df_multas_treated['amparo_legal'] == '[]']"
   ]
  },
  {
   "cell_type": "markdown",
   "id": "c330467d",
   "metadata": {},
   "source": [
    "Percebe-se que ha uma linha com registros indevidos, diante disso essa linha sera excluida"
   ]
  },
  {
   "cell_type": "code",
   "execution_count": 150,
   "id": "0cf98b87",
   "metadata": {},
   "outputs": [],
   "source": [
    "# Deletando colunas\n",
    "df_multas_treated = df_multas_treated. \\\n",
    "                        drop(df_multas_treated[(df_multas_treated['amparo_legal'] == '[]')].index)"
   ]
  },
  {
   "cell_type": "markdown",
   "id": "ae8214d2",
   "metadata": {},
   "source": [
    "#### Column 'descricao_infracao'"
   ]
  },
  {
   "cell_type": "code",
   "execution_count": 151,
   "id": "d3826da0",
   "metadata": {},
   "outputs": [
    {
     "data": {
      "text/plain": [
       "array(['TRANSITAR COM O VEÍCULO EXCEDENDO A CMT ACIMA DE 1000 KG',\n",
       "       'TRANSITAR COM O VEÍCULO EXCEDENDO A CMT EM ATÉ 600 KG',\n",
       "       'TRANSITAR COM O VEÍCULO EXCEDENDO A CMT ENTRE 601 E 1000 KG',\n",
       "       'ART. 209 DEIXAR DE ADENTRAR AS ÁREAS DESTINADAS À PESAGEM DE VEÍCULOS',\n",
       "       'TRANSITAR COM O VEÍCULO COM EXCESSO DE PESO - PBT/PBTC',\n",
       "       'TRANSITAR COM O VEÍCULO COM EXCESSO DE PESO - PBT/PBTC E POR EIXO',\n",
       "       'TRANSITAR COM O VEÍCULO COM EXCESSO DE PESO - POR EIXO'],\n",
       "      dtype=object)"
      ]
     },
     "execution_count": 151,
     "metadata": {},
     "output_type": "execute_result"
    }
   ],
   "source": [
    "# Verificando os valores unicos\n",
    "df_multas_treated.descricao_infracao.unique()"
   ]
  },
  {
   "cell_type": "code",
   "execution_count": 152,
   "id": "0005057f",
   "metadata": {},
   "outputs": [
    {
     "data": {
      "text/html": [
       "<div>\n",
       "<style scoped>\n",
       "    .dataframe tbody tr th:only-of-type {\n",
       "        vertical-align: middle;\n",
       "    }\n",
       "\n",
       "    .dataframe tbody tr th {\n",
       "        vertical-align: top;\n",
       "    }\n",
       "\n",
       "    .dataframe thead th {\n",
       "        text-align: right;\n",
       "    }\n",
       "</style>\n",
       "<table border=\"1\" class=\"dataframe\">\n",
       "  <thead>\n",
       "    <tr style=\"text-align: right;\">\n",
       "      <th></th>\n",
       "      <th>descricao_infracao</th>\n",
       "      <th>quantidade_autos</th>\n",
       "    </tr>\n",
       "  </thead>\n",
       "  <tbody>\n",
       "    <tr>\n",
       "      <th>0</th>\n",
       "      <td>ART. 209 DEIXAR DE ADENTRAR AS ÁREAS DESTINADA...</td>\n",
       "      <td>40753</td>\n",
       "    </tr>\n",
       "    <tr>\n",
       "      <th>1</th>\n",
       "      <td>TRANSITAR COM O VEÍCULO COM EXCESSO DE PESO - ...</td>\n",
       "      <td>8520</td>\n",
       "    </tr>\n",
       "    <tr>\n",
       "      <th>2</th>\n",
       "      <td>TRANSITAR COM O VEÍCULO COM EXCESSO DE PESO - ...</td>\n",
       "      <td>12269</td>\n",
       "    </tr>\n",
       "    <tr>\n",
       "      <th>3</th>\n",
       "      <td>TRANSITAR COM O VEÍCULO COM EXCESSO DE PESO - ...</td>\n",
       "      <td>77851</td>\n",
       "    </tr>\n",
       "    <tr>\n",
       "      <th>4</th>\n",
       "      <td>TRANSITAR COM O VEÍCULO EXCEDENDO A CMT ACIMA ...</td>\n",
       "      <td>130</td>\n",
       "    </tr>\n",
       "    <tr>\n",
       "      <th>5</th>\n",
       "      <td>TRANSITAR COM O VEÍCULO EXCEDENDO A CMT EM ATÉ...</td>\n",
       "      <td>75</td>\n",
       "    </tr>\n",
       "    <tr>\n",
       "      <th>6</th>\n",
       "      <td>TRANSITAR COM O VEÍCULO EXCEDENDO A CMT ENTRE ...</td>\n",
       "      <td>20</td>\n",
       "    </tr>\n",
       "  </tbody>\n",
       "</table>\n",
       "</div>"
      ],
      "text/plain": [
       "                                  descricao_infracao  quantidade_autos\n",
       "0  ART. 209 DEIXAR DE ADENTRAR AS ÁREAS DESTINADA...             40753\n",
       "1  TRANSITAR COM O VEÍCULO COM EXCESSO DE PESO - ...              8520\n",
       "2  TRANSITAR COM O VEÍCULO COM EXCESSO DE PESO - ...             12269\n",
       "3  TRANSITAR COM O VEÍCULO COM EXCESSO DE PESO - ...             77851\n",
       "4  TRANSITAR COM O VEÍCULO EXCEDENDO A CMT ACIMA ...               130\n",
       "5  TRANSITAR COM O VEÍCULO EXCEDENDO A CMT EM ATÉ...                75\n",
       "6  TRANSITAR COM O VEÍCULO EXCEDENDO A CMT ENTRE ...                20"
      ]
     },
     "execution_count": 152,
     "metadata": {},
     "output_type": "execute_result"
    }
   ],
   "source": [
    "# Verificar a quantidade de dados por amparo legal\n",
    "df_multas_treated.groupby('descricao_infracao')['quantidade_autos'].sum().reset_index()"
   ]
  },
  {
   "cell_type": "markdown",
   "id": "7a3f71ba",
   "metadata": {},
   "source": [
    "A unica grande incosistencia sao os excessos de espacos em branco em algumas colunas, sendo assim removeremos esses espacos em branco de todas as colunas"
   ]
  },
  {
   "cell_type": "code",
   "execution_count": 153,
   "id": "22372296",
   "metadata": {},
   "outputs": [
    {
     "name": "stdout",
     "output_type": "stream",
     "text": [
      "<class 'pandas.core.frame.DataFrame'>\n",
      "Int64Index: 332 entries, 0 to 333\n",
      "Data columns (total 7 columns):\n",
      " #   Column              Non-Null Count  Dtype         \n",
      "---  ------              --------------  -----         \n",
      " 0   escopo_autuacao     332 non-null    object        \n",
      " 1   mes                 332 non-null    object        \n",
      " 2   uf                  332 non-null    object        \n",
      " 3   amparo_legal        332 non-null    object        \n",
      " 4   descricao_infracao  332 non-null    object        \n",
      " 5   quantidade_autos    332 non-null    int64         \n",
      " 6   data_referencia     332 non-null    datetime64[ns]\n",
      "dtypes: datetime64[ns](1), int64(1), object(5)\n",
      "memory usage: 20.8+ KB\n"
     ]
    }
   ],
   "source": [
    "df_multas_treated.info()"
   ]
  },
  {
   "cell_type": "code",
   "execution_count": 154,
   "id": "cc8d988f",
   "metadata": {},
   "outputs": [],
   "source": [
    "# Removendo valores em branco em excesso\n",
    "df_multas_treated['escopo_autuacao'] = df_multas_treated['escopo_autuacao'].apply(lambda x: x.strip())\n",
    "df_multas_treated['amparo_legal'] = df_multas_treated['amparo_legal'].apply(lambda x: x.strip())\n",
    "df_multas_treated['descricao_infracao'] = df_multas_treated['descricao_infracao'].apply(lambda x: x.strip())"
   ]
  },
  {
   "cell_type": "markdown",
   "id": "46adc10f",
   "metadata": {},
   "source": [
    "#### Column 'quantidade_autos'"
   ]
  },
  {
   "cell_type": "code",
   "execution_count": 155,
   "id": "6d002bb1",
   "metadata": {},
   "outputs": [
    {
     "data": {
      "text/plain": [
       "count     332.000000\n",
       "mean      420.536145\n",
       "std       912.180368\n",
       "min         1.000000\n",
       "25%         6.000000\n",
       "50%        93.500000\n",
       "75%       362.000000\n",
       "max      8413.000000\n",
       "Name: quantidade_autos, dtype: float64"
      ]
     },
     "execution_count": 155,
     "metadata": {},
     "output_type": "execute_result"
    }
   ],
   "source": [
    "df_multas_treated.quantidade_autos.describe()"
   ]
  },
  {
   "cell_type": "code",
   "execution_count": 156,
   "id": "72c20ef1",
   "metadata": {},
   "outputs": [
    {
     "data": {
      "text/html": [
       "<div>\n",
       "<style scoped>\n",
       "    .dataframe tbody tr th:only-of-type {\n",
       "        vertical-align: middle;\n",
       "    }\n",
       "\n",
       "    .dataframe tbody tr th {\n",
       "        vertical-align: top;\n",
       "    }\n",
       "\n",
       "    .dataframe thead th {\n",
       "        text-align: right;\n",
       "    }\n",
       "</style>\n",
       "<table border=\"1\" class=\"dataframe\">\n",
       "  <thead>\n",
       "    <tr style=\"text-align: right;\">\n",
       "      <th></th>\n",
       "      <th>escopo_autuacao</th>\n",
       "      <th>mes</th>\n",
       "      <th>uf</th>\n",
       "      <th>amparo_legal</th>\n",
       "      <th>descricao_infracao</th>\n",
       "      <th>quantidade_autos</th>\n",
       "      <th>data_referencia</th>\n",
       "    </tr>\n",
       "  </thead>\n",
       "  <tbody>\n",
       "    <tr>\n",
       "      <th>0</th>\n",
       "      <td>CMT - CAPACIDADE MÁXIMA DE TRAÇÃO</td>\n",
       "      <td>JANEIRO</td>\n",
       "      <td>ES</td>\n",
       "      <td>LEI 9503/97 LEI 10561/02 RES. CONTRAN Nº 210/0...</td>\n",
       "      <td>TRANSITAR COM O VEÍCULO EXCEDENDO A CMT ACIMA ...</td>\n",
       "      <td>1</td>\n",
       "      <td>2020-01-01</td>\n",
       "    </tr>\n",
       "    <tr>\n",
       "      <th>1</th>\n",
       "      <td>CMT - CAPACIDADE MÁXIMA DE TRAÇÃO</td>\n",
       "      <td>JANEIRO</td>\n",
       "      <td>MG</td>\n",
       "      <td>LEI 9503/97 LEI 10561/02 RES. CONTRAN Nº 210/0...</td>\n",
       "      <td>TRANSITAR COM O VEÍCULO EXCEDENDO A CMT EM ATÉ...</td>\n",
       "      <td>2</td>\n",
       "      <td>2020-01-01</td>\n",
       "    </tr>\n",
       "    <tr>\n",
       "      <th>2</th>\n",
       "      <td>CMT - CAPACIDADE MÁXIMA DE TRAÇÃO</td>\n",
       "      <td>JANEIRO</td>\n",
       "      <td>MG</td>\n",
       "      <td>LEI 9503/97 LEI 10561/02 RES. CONTRAN Nº 210/0...</td>\n",
       "      <td>TRANSITAR COM O VEÍCULO EXCEDENDO A CMT ACIMA ...</td>\n",
       "      <td>3</td>\n",
       "      <td>2020-01-01</td>\n",
       "    </tr>\n",
       "    <tr>\n",
       "      <th>3</th>\n",
       "      <td>CMT - CAPACIDADE MÁXIMA DE TRAÇÃO</td>\n",
       "      <td>JANEIRO</td>\n",
       "      <td>MS</td>\n",
       "      <td>LEI 9503/97 LEI 10561/02 RES. CONTRAN Nº 210/0...</td>\n",
       "      <td>TRANSITAR COM O VEÍCULO EXCEDENDO A CMT ACIMA ...</td>\n",
       "      <td>2</td>\n",
       "      <td>2020-01-01</td>\n",
       "    </tr>\n",
       "    <tr>\n",
       "      <th>4</th>\n",
       "      <td>CMT - CAPACIDADE MÁXIMA DE TRAÇÃO</td>\n",
       "      <td>JANEIRO</td>\n",
       "      <td>RJ</td>\n",
       "      <td>LEI 9503/97 LEI 10561/02 RES. CONTRAN Nº 210/0...</td>\n",
       "      <td>TRANSITAR COM O VEÍCULO EXCEDENDO A CMT ENTRE ...</td>\n",
       "      <td>8</td>\n",
       "      <td>2020-01-01</td>\n",
       "    </tr>\n",
       "    <tr>\n",
       "      <th>5</th>\n",
       "      <td>CMT - CAPACIDADE MÁXIMA DE TRAÇÃO</td>\n",
       "      <td>JANEIRO</td>\n",
       "      <td>RJ</td>\n",
       "      <td>LEI 9503/97 LEI 10561/02 RES. CONTRAN Nº 210/0...</td>\n",
       "      <td>TRANSITAR COM O VEÍCULO EXCEDENDO A CMT ACIMA ...</td>\n",
       "      <td>9</td>\n",
       "      <td>2020-01-01</td>\n",
       "    </tr>\n",
       "  </tbody>\n",
       "</table>\n",
       "</div>"
      ],
      "text/plain": [
       "                     escopo_autuacao      mes  uf  \\\n",
       "0  CMT - CAPACIDADE MÁXIMA DE TRAÇÃO  JANEIRO  ES   \n",
       "1  CMT - CAPACIDADE MÁXIMA DE TRAÇÃO  JANEIRO  MG   \n",
       "2  CMT - CAPACIDADE MÁXIMA DE TRAÇÃO  JANEIRO  MG   \n",
       "3  CMT - CAPACIDADE MÁXIMA DE TRAÇÃO  JANEIRO  MS   \n",
       "4  CMT - CAPACIDADE MÁXIMA DE TRAÇÃO  JANEIRO  RJ   \n",
       "5  CMT - CAPACIDADE MÁXIMA DE TRAÇÃO  JANEIRO  RJ   \n",
       "\n",
       "                                        amparo_legal  \\\n",
       "0  LEI 9503/97 LEI 10561/02 RES. CONTRAN Nº 210/0...   \n",
       "1  LEI 9503/97 LEI 10561/02 RES. CONTRAN Nº 210/0...   \n",
       "2  LEI 9503/97 LEI 10561/02 RES. CONTRAN Nº 210/0...   \n",
       "3  LEI 9503/97 LEI 10561/02 RES. CONTRAN Nº 210/0...   \n",
       "4  LEI 9503/97 LEI 10561/02 RES. CONTRAN Nº 210/0...   \n",
       "5  LEI 9503/97 LEI 10561/02 RES. CONTRAN Nº 210/0...   \n",
       "\n",
       "                                  descricao_infracao  quantidade_autos  \\\n",
       "0  TRANSITAR COM O VEÍCULO EXCEDENDO A CMT ACIMA ...                 1   \n",
       "1  TRANSITAR COM O VEÍCULO EXCEDENDO A CMT EM ATÉ...                 2   \n",
       "2  TRANSITAR COM O VEÍCULO EXCEDENDO A CMT ACIMA ...                 3   \n",
       "3  TRANSITAR COM O VEÍCULO EXCEDENDO A CMT ACIMA ...                 2   \n",
       "4  TRANSITAR COM O VEÍCULO EXCEDENDO A CMT ENTRE ...                 8   \n",
       "5  TRANSITAR COM O VEÍCULO EXCEDENDO A CMT ACIMA ...                 9   \n",
       "\n",
       "  data_referencia  \n",
       "0      2020-01-01  \n",
       "1      2020-01-01  \n",
       "2      2020-01-01  \n",
       "3      2020-01-01  \n",
       "4      2020-01-01  \n",
       "5      2020-01-01  "
      ]
     },
     "execution_count": 156,
     "metadata": {},
     "output_type": "execute_result"
    }
   ],
   "source": [
    "# Nao foram encontradas maiores divergencias, sendo assim podemos importar os dados para um arquivo csv\n",
    "df_multas_treated.head(6)"
   ]
  },
  {
   "cell_type": "markdown",
   "id": "b2c56421",
   "metadata": {},
   "source": [
    "### Gerando dados\n",
    "\n",
    "<p>OS tramentos e analises foram feitos, sendo assim resta apenas gerar um novo dataset com os dados ja tratados</p>"
   ]
  },
  {
   "cell_type": "code",
   "execution_count": 157,
   "id": "9b033f9d",
   "metadata": {},
   "outputs": [],
   "source": [
    "df_multas_treated.to_csv('datasets/multas.csv', index = False)"
   ]
  }
 ],
 "metadata": {
  "kernelspec": {
   "display_name": "Python 3",
   "language": "python",
   "name": "python3"
  },
  "language_info": {
   "codemirror_mode": {
    "name": "ipython",
    "version": 3
   },
   "file_extension": ".py",
   "mimetype": "text/x-python",
   "name": "python",
   "nbconvert_exporter": "python",
   "pygments_lexer": "ipython3",
   "version": "3.8.8"
  }
 },
 "nbformat": 4,
 "nbformat_minor": 5
}
